{
 "cells": [
  {
   "cell_type": "markdown",
   "id": "04ac6761",
   "metadata": {},
   "source": [
    "# Logic-1 > cigar_party"
   ]
  },
  {
   "cell_type": "markdown",
   "id": "683f0ec6",
   "metadata": {},
   "source": [
    "When squirrels get together for a party, they like to have cigars. A squirrel party is successful when the number of cigars is between 40 and 60, inclusive. Unless it is the weekend, in which case there is no upper bound on the number of cigars. Return True if the party with the given values is successful, or False otherwise.\n",
    "\n",
    "\n",
    "cigar_party(30, False) → False\n",
    "\n",
    "cigar_party(50, False) → True\n",
    "\n",
    "cigar_party(70, True) → True"
   ]
  },
  {
   "cell_type": "code",
   "execution_count": 2,
   "id": "a596f7d6",
   "metadata": {},
   "outputs": [],
   "source": [
    "def cigar_party(cigars, is_weekend):\n",
    "  if cigars<40:\n",
    "    return False\n",
    "  elif cigars >=40 and cigars <=60:\n",
    "    return True\n",
    "  elif cigars >60 and is_weekend==True:\n",
    "    return True\n",
    "  else:\n",
    "    return False"
   ]
  }
 ],
 "metadata": {
  "kernelspec": {
   "display_name": "Python 3 (ipykernel)",
   "language": "python",
   "name": "python3"
  },
  "language_info": {
   "codemirror_mode": {
    "name": "ipython",
    "version": 3
   },
   "file_extension": ".py",
   "mimetype": "text/x-python",
   "name": "python",
   "nbconvert_exporter": "python",
   "pygments_lexer": "ipython3",
   "version": "3.9.12"
  }
 },
 "nbformat": 4,
 "nbformat_minor": 5
}
